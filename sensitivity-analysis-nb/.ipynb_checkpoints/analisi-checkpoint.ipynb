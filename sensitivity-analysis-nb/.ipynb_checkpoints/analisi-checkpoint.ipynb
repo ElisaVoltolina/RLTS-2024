{
 "cells": [
  {
   "cell_type": "code",
   "execution_count": null,
   "id": "fe72fb40",
   "metadata": {},
   "outputs": [],
   "source": [
    "#from funzioni import random_int, read_initial, random_initial, one_flip, pertubation, updateP, restart, judge_best, local_search, main \n",
    "#no forse così non va bene meglio farte nel altro modo così importo anceh le variabili\n",
    "#questo modo potebbe essere utile per la main al massimo"
   ]
  },
  {
   "cell_type": "code",
   "execution_count": null,
   "id": "910a0103",
   "metadata": {},
   "outputs": [],
   "source": [
    "!pip install import-ipynb"
   ]
  },
  {
   "cell_type": "code",
   "execution_count": null,
   "id": "4102b960",
   "metadata": {
    "scrolled": true
   },
   "outputs": [],
   "source": [
    "import import_ipynb\n",
    "import RLTS"
   ]
  },
  {
   "cell_type": "code",
   "execution_count": null,
   "id": "4c85cc6d",
   "metadata": {},
   "outputs": [],
   "source": [
    "import time\n",
    "import random\n",
    "import numpy as np\n",
    "import matplotlib.pyplot as plt\n",
    "from scipy.stats import friedmanchisquare\n",
    "\n",
    "# Parametri di test\n",
    "param_to_test = \"tt\"\n",
    "test_values = [5, 10, 15]  # Valori del parametro da testare\n",
    "num_runs = 10  # Numero di run per cimport time\n",
    "import random\n",
    "import numpy as np\n",
    "import matplotlib.pyplot as plt\n",
    "from scipy.stats import friedmanchisquare\n",
    "\n",
    "# Parametri di test\n",
    "param_to_test = \"tt\"\n",
    "test_values = [5, 10, 15]  # Valori del parametro da testare\n",
    "num_runs = 10  # Numero di run per ciascun valore\n",
    "Sb_ref=233\n",
    "\n",
    "results = []\n",
    "\n",
    "print(\"Avvio analisi di sensibilità...\")\n",
    "\n",
    "    \n",
    "for value in test_values:\n",
    "    tt = value  # Imposta il parametro globale\n",
    "    run_results = []\n",
    "\n",
    "    # Esegui `main()` più volte per ciascun valore del parametro\n",
    "    for _ in range(num_runs):\n",
    "        Sb= RLTS.main()  # Esegui la funzione importata\n",
    "        diff_percent= ((Sb-Sb_ref)/Sb_ref)*100\n",
    "        run_results.append(diff_percent)  # Salva il risultato globale `Sb` \n",
    "\n",
    "    results.append(run_results)\n",
    "    print(f\"Risultati percentuali per {param_to_test} = {value}: {run_results}\")\n",
    "\n",
    "# Test statistico di Friedman\n",
    "test_result = friedmanchisquare(*results)\n",
    "print(f\"\\nTest di Friedman per {param_to_test}: p-value = {test_result.pvalue:.5f}\")\n",
    "\n",
    "# Visualizzazione Boxplot\n",
    "plt.boxplot(results, labels=test_values)\n",
    "plt.title(f\"Sensibilità di {param_to_test}\")\n",
    "plt.xlabel(\"Valori del parametro\")\n",
    "plt.ylabel(\"Differenza percentuale da S_ref (%)\")\n",
    "plt.show()\n",
    "iascun valore\n",
    "Sb_ref=233\n",
    "graphs= ['myciel4.col', 'myciel6.col', 'myciel7.col']\n",
    "# Assumiamo che `main()` sia già definita\n",
    "results = []\n",
    "\n",
    "print(\"Avvio analisi di sensibilità...\")\n",
    "for graph in graphs:\n",
    "    print(f\"\\nTestando il grafo:{graph}\")\n",
    "    in_file= graph #aggiorno il file di input\n",
    "    \n",
    "    for value in test_values:\n",
    "        tt = value  # Imposta il parametro globale\n",
    "        run_results = []\n",
    "\n",
    "    # Esegui `main()` più volte per ciascun valore del parametro\n",
    "        for _ in range(num_runs):\n",
    "            Sb= RLTS.main()  # Esegui la funzione importata\n",
    "            diff_percent= ((Sb-Sb_ref)/Sb_ref)*100\n",
    "            run_results.append(diff_percent)  # Salva il risultato globale `Sb` \n",
    "\n",
    "        results.append(run_results)\n",
    "        print(f\"Risultati percentuali per {param_to_test} = {value}: {run_results}\")\n",
    "\n",
    "# Test statistico di Friedman\n",
    "test_result = friedmanchisquare(*results)\n",
    "print(f\"\\nTest di Friedman per {param_to_test}: p-value = {test_result.pvalue:.5f}\")\n",
    "\n",
    "# Visualizzazione Boxplot\n",
    "plt.boxplot(results, labels=[f'{graph}-{value}' for graph in graphs for value in test_values])\n",
    "plt.title(f\"Sensibilità di {param_to_test}\")\n",
    "plt.title(f\"Sensibilità di {param_to_test}\")\n",
    "plt.xlabel(\"Valori del parametro per ogni grafo\")\n",
    "plt.ylabel(\"Differenza percentuale da Sb_ref (%)\")\n",
    "plt.show()\n"
   ]
  },
  {
   "cell_type": "code",
   "execution_count": null,
   "id": "71270ca2",
   "metadata": {},
   "outputs": [],
   "source": []
  }
 ],
 "metadata": {
  "kernelspec": {
   "display_name": "Python 3 (ipykernel)",
   "language": "python",
   "name": "python3"
  },
  "language_info": {
   "codemirror_mode": {
    "name": "ipython",
    "version": 3
   },
   "file_extension": ".py",
   "mimetype": "text/x-python",
   "name": "python",
   "nbconvert_exporter": "python",
   "pygments_lexer": "ipython3",
   "version": "3.10.9"
  }
 },
 "nbformat": 4,
 "nbformat_minor": 5
}
